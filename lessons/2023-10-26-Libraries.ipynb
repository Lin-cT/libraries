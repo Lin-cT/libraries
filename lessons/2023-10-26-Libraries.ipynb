{
 "cells": [
  {
   "cell_type": "markdown",
   "metadata": {},
   "source": [
    "## 3.12-3.13 Developing Procedures"
   ]
  },
  {
   "cell_type": "markdown",
   "metadata": {},
   "source": [
    "<strong><font size = 26>Learning Objectives:</font></strong><br><br>\n",
    "- Select approproate libraries or existing code segments to use in creating new programs"
   ]
  },
  {
   "cell_type": "markdown",
   "metadata": {},
   "source": [
    "<strong><font size = 26>What are Libraries?</font></strong><br><br>\n",
    "In Python, a library is a collection of pre-written code, functions, and modules that extend the language's capabilities. These libraries are designed to be reused by developers to perform common tasks, rather than having to write the code from scratch. Libraries are essential for simplifying and accelerating the development process, as they provide a wide range of tools and functions for various purposes.\n",
    "\n",
    "Here are some key points about Python libraries:\n",
    "\n",
    "1. Modules: Libraries in Python consist of modules, which are individual Python files containing functions, classes, and variables related to a specific set of tasks or a particular domain. You can import these modules into your own Python code to access their functionality.\n",
    "\n",
    "2. Standard Library: Python comes with a comprehensive standard library that includes modules for various tasks, such as working with files, networking, data processing, and more. These modules are readily available and do not require installation.\n",
    "\n",
    "3. Third-party Libraries: In addition to the standard library, there is a vast ecosystem of third-party libraries created by the Python community. These libraries cover a wide range of domains, including web development, data analysis, machine learning, game development, and more. Some popular third-party libraries include NumPy, Pandas, Matplotlib, TensorFlow, Django, Flask, and many others."
   ]
  },
  {
   "cell_type": "markdown",
   "metadata": {},
   "source": [
    "<strong><font size = 26>How Do We Get Libraries into Our Code and Working?</strong></font><br><br>\n",
    "To get libraries into our code, we use the import statement followed by the library we want to import. <br>Lets start simply:"
   ]
  },
  {
   "cell_type": "markdown",
   "metadata": {},
   "source": [
    "> "
   ]
  },
  {
   "cell_type": "code",
   "execution_count": 4,
   "metadata": {},
   "outputs": [
    {
     "name": "stdout",
     "output_type": "stream",
     "text": [
      "8.0\n",
      "2\n"
     ]
    }
   ],
   "source": [
    "#In this code cell, we are importing the math library which allows us to do math operations,\n",
    "#and the random library which lets us take pseudorandom numbers and choices.\n",
    "import math\n",
    "import random\n",
    "#We use the libraries by first calling them by their name, then using one of their methods.\n",
    "#For example:\n",
    "num = 64\n",
    "print(math.sqrt(num))\n",
    "numList = [1,2,3,4,5,6]\n",
    "print(random.choice(numList))\n",
    "#Here, 'math' and 'random' are the names of the libraries, and 'sqrt' and 'choice' are the\n",
    "#names of the methods."
   ]
  },
  {
   "cell_type": "markdown",
   "metadata": {},
   "source": [
    "<font size = 5>We can also import parts of libraries by adding a \"from\" in front of our import.</font><br>\n"
   ]
  },
  {
   "cell_type": "code",
   "execution_count": 18,
   "metadata": {},
   "outputs": [
    {
     "name": "stdout",
     "output_type": "stream",
     "text": [
      "8.0\n",
      "2\n"
     ]
    }
   ],
   "source": [
    "from math import sqrt\n",
    "from random import *\n",
    "num = 64\n",
    "print(sqrt(num))\n",
    "numList = [1,2,3,4,5,6]\n",
    "print(choice(numList))\n",
    "#now, we don't have to use math. in front of sqrt, and can just use the function by itself.\n",
    "#we can also import *, or all, which makes it so that everything is imported. Here, we don't\n",
    "#have to use random in front of choice, even though we didn't import choice specifically."
   ]
  },
  {
   "cell_type": "markdown",
   "metadata": {},
   "source": [
    "<strong><font size = 13>Popcorn Hack #1</font><br></strong><br><br>\n",
    "<font size = 6>Import your own library from a list of provided libraries, and use one of its methods.\n",
    "<br>Lists of very simple libraries:\n",
    "math, random, datetime, sleep\n"
   ]
  },
  {
   "cell_type": "code",
   "execution_count": 38,
   "metadata": {},
   "outputs": [
    {
     "name": "stdout",
     "output_type": "stream",
     "text": [
      "2023-10-24 14:15:09.464046\n"
     ]
    }
   ],
   "source": [
    "#math library module examples: sqrt(num), square(num), cube(num), factorial(num)\n",
    "#random library module examples: choice(list), randrange(lowest, highest, step[numbers chosen in multiples of {step}])\n",
    "#datetime library module examples: datetime.now()\n",
    "#sleep library module examples: sleep(milliseconds)"
   ]
  },
  {
   "cell_type": "markdown",
   "metadata": {},
   "source": [
    "<strong><font size = 26>Documentation</strong></font><br><br>\n",
    "Documentation in Python libraries refers to the written information and explanations provided to help users understand how to use the library, its classes, functions, and modules. It serves as a comprehensive guide that documents the library's functionality, usage, and often includes code examples. Documentation is typically created by the library developers and is an essential component of a well-maintained library.\n",
    "\n",
    "<br>\n",
    "\n",
    "Examples of Documentation: An introductory section explaining the purpose of the library, a section on how to install the library, basic usage examples, etc. "
   ]
  },
  {
   "cell_type": "code",
   "execution_count": null,
   "metadata": {},
   "outputs": [],
   "source": [
    "calcAverage(grades)\n",
    "\n",
    "'''\n",
    "You know the name of the procedure and the perameters, but...\n",
    "You probably wouldn't be able to use this procedure \n",
    "with confidence because you don't know its function \n",
    "exactly (maybe you can guess that it finds the average, \n",
    "but you wouldn't know if it uses mean, mode, or median to \n",
    "find the average). You would also need more information on the\n",
    "perameters.\n",
    "'''"
   ]
  },
  {
   "cell_type": "markdown",
   "metadata": {},
   "source": [
    "<strong><font size = 26>Libraries and APIs</strong></font><br><br>\n",
    "- A file that contains procedures that cane be used in a program is called a <strong>library</strong>\n",
    "- An <strong>Application Program Interface (API)</strong> provides specifications for how procedures in a library behave and can be used. \n",
    "\n",
    "APIs define the methods and functions that are available for developers to interact with a library. They specify how to make requests, provide inputs, and receive outputs, creating a clear and consistent way to use library features."
   ]
  },
  {
   "cell_type": "markdown",
   "metadata": {},
   "source": [
    "<strong><font size = 26>Which libraries will be very important to us?</font><br><br></strong>\n",
    "<ul>\n",
    "<li>Requests - Simplifies working with HTTP servers, including 'request'-ing data from them, and recieving it</li>\n",
    "<li>Pillow - Simplifies image processing</li>\n",
    "<li>Pandas - Simplifies data analysis & manipulation</li>\n",
    "<li>Numpy - Vastly quickens functionality of arrays up to 50 times faster than regular python list</li>\n",
    "<li>Scikit-Learn - Implements machine learning models and statistical modelling</li>\n",
    "<li>Tensorflow - Data automation, model tracking, performance monitoring, and model retraining</li>\n",
    "<li>matplotlib - Creates static, animated, and interactive visualizations in Python</li>\n",
    "</ul>"
   ]
  },
  {
   "cell_type": "markdown",
   "metadata": {},
   "source": [
    ">\n"
   ]
  }
 ],
 "metadata": {
  "kernelspec": {
   "display_name": "Python 3",
   "language": "python",
   "name": "python3"
  },
  "language_info": {
   "codemirror_mode": {
    "name": "ipython",
    "version": 3
   },
   "file_extension": ".py",
   "mimetype": "text/x-python",
   "name": "python",
   "nbconvert_exporter": "python",
   "pygments_lexer": "ipython3",
   "version": "3.11.1"
  }
 },
 "nbformat": 4,
 "nbformat_minor": 2
}
