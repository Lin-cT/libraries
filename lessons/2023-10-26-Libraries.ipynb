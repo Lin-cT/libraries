{
 "cells": [
  {
   "cell_type": "markdown",
   "metadata": {},
   "source": [
    "<strong><font size = 26>Libraries. Why are the important?</font></strong><br><br>\n",
    "Libraries are used to simplify many kinds of operations into a few simple functions. Thats great...but<br><br>\n",
    "<strong><font size = 26>How do we get them into our code and working?</strong></font><br><br>\n",
    "To get libraries into our code, we use the import statement followed by the library we want to import. <br>Lets start simply:"
   ]
  },
  {
   "cell_type": "markdown",
   "metadata": {},
   "source": [
    "> "
   ]
  },
  {
   "cell_type": "code",
   "execution_count": 4,
   "metadata": {},
   "outputs": [
    {
     "name": "stdout",
     "output_type": "stream",
     "text": [
      "8.0\n",
      "2\n"
     ]
    }
   ],
   "source": [
    "#In this code cell, we are importing the math library which allows us to do math operations,\n",
    "#and the random library which lets us take pseudorandom numbers and choices.\n",
    "import math\n",
    "import random\n",
    "#We use the libraries by first calling them by their name, then using one of their methods.\n",
    "#For example:\n",
    "num = 64\n",
    "print(math.sqrt(num))\n",
    "numList = [1,2,3,4,5,6]\n",
    "print(random.choice(numList))\n",
    "#Here, 'math' and 'random' are the names of the libraries, and 'sqrt' and 'choice' are the\n",
    "#names of the methods."
   ]
  },
  {
   "cell_type": "markdown",
   "metadata": {},
   "source": [
    "<font size = 5>We can also import parts of libraries by adding a \"from\" in front of our import.</font><br>\n"
   ]
  },
  {
   "cell_type": "code",
   "execution_count": 18,
   "metadata": {},
   "outputs": [
    {
     "name": "stdout",
     "output_type": "stream",
     "text": [
      "8.0\n",
      "2\n"
     ]
    }
   ],
   "source": [
    "from math import sqrt\n",
    "from random import *\n",
    "num = 64\n",
    "print(sqrt(num))\n",
    "numList = [1,2,3,4,5,6]\n",
    "print(choice(numList))\n",
    "#now, we don't have to use math. in front of sqrt, and can just use the function by itself.\n",
    "#we can also import *, or all, which makes it so that everything is imported. Here, we don't\n",
    "#have to use random in front of choice, even though we didn't import choice specifically."
   ]
  },
  {
   "cell_type": "markdown",
   "metadata": {},
   "source": [
    "<strong><font size = 13>Popcorn Hack #1</font><br></strong><br><br>\n",
    "<font size = 6>Import your own library from a list of provided libraries, and use one of its methods.\n",
    "<br>Lists of very simple libraries:\n",
    "math, random, datetime, sleep\n"
   ]
  },
  {
   "cell_type": "code",
   "execution_count": 38,
   "metadata": {},
   "outputs": [
    {
     "name": "stdout",
     "output_type": "stream",
     "text": [
      "2023-10-24 14:15:09.464046\n"
     ]
    }
   ],
   "source": [
    "#math library module examples: sqrt(num), square(num), cube(num), factorial(num)\n",
    "#random library module examples: choice(list), randrange(lowest, highest, step[numbers chosen\n",
    "#in multiples of {step}])\n",
    "#datetime library module examples: datetime.now()\n",
    "#sleep library module examples: sleep(milliseconds)"
   ]
  },
  {
   "cell_type": "markdown",
   "metadata": {},
   "source": [
    "<strong><font size = 26>Which libraries will be very important to us?</font><br><br></strong>\n",
    "<ul>\n",
    "<li>Requests - Simplifies working with HTTP servers, including 'request'-ing data from them, and recieving it</li>\n",
    "<li>Pillow - Simplifies image processing</li>\n",
    "<li>Pandas - Simplifies data analysis & manipulation</li>\n",
    "<li>Numpy - Vastly quickens functionality of arrays up to 50 times faster than regular python list</li>\n",
    "<li>Scikit-Learn - </li>\n",
    "<li>Tensorflow</li>\n",
    "<li>matplotlib</li>\n",
    "</ul>"
   ]
  },
  {
   "cell_type": "markdown",
   "metadata": {},
   "source": [
    ">\n"
   ]
  }
 ],
 "metadata": {
  "kernelspec": {
   "display_name": "Python 3",
   "language": "python",
   "name": "python3"
  },
  "language_info": {
   "codemirror_mode": {
    "name": "ipython",
    "version": 3
   },
   "file_extension": ".py",
   "mimetype": "text/x-python",
   "name": "python",
   "nbconvert_exporter": "python",
   "pygments_lexer": "ipython3",
   "version": "3.11.1"
  }
 },
 "nbformat": 4,
 "nbformat_minor": 2
}
