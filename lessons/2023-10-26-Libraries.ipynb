{
 "cells": [
  {
   "cell_type": "markdown",
   "metadata": {},
   "source": [
    "## 3.12-3.13 Developing Procedures\n",
    "*before we do this lesson, you will want to open a terminal on your desktop and pip install Requests, Pillow, Pandas, NumPy, Scikit-Learn, Tensorflow, and matplotlib. "
   ]
  },
  {
   "cell_type": "markdown",
   "metadata": {},
   "source": [
    "<strong><font size = 26>Learning Objectives:</font></strong><br><br>\n",
    "- Select approproate libraries or existing code segments to use in creating new programs"
   ]
  },
  {
   "cell_type": "markdown",
   "metadata": {},
   "source": [
    "<strong><font size = 26>What are Libraries?</font></strong><br><br>\n",
    "In Python, a library is a collection of pre-written code, functions, and modules that extend the language's capabilities. These libraries are designed to be reused by developers to perform common tasks, rather than having to write the code from scratch. Libraries are essential for simplifying and accelerating the development process, as they provide a wide range of tools and functions for various purposes.\n",
    "\n",
    "Here are some key points about Python libraries:\n",
    "\n",
    "1. Modules: Libraries in Python consist of modules, which are individual Python files containing functions, classes, and variables related to a specific set of tasks or a particular domain. You can import these modules into your own Python code to access their functionality.\n",
    "\n",
    "2. Standard Library: Python comes with a comprehensive standard library that includes modules for various tasks, such as working with files, networking, data processing, and more. These modules are readily available and do not require installation.\n",
    "\n",
    "3. Third-party Libraries: In addition to the standard library, there is a vast ecosystem of third-party libraries created by the Python community. These libraries cover a wide range of domains, including web development, data analysis, machine learning, game development, and more. Some popular third-party libraries include NumPy, Pandas, Matplotlib, TensorFlow, Django, Flask, and many others."
   ]
  },
  {
   "cell_type": "markdown",
   "metadata": {},
   "source": [
    "<strong><font size = 26>How Do We Get Libraries into Our Code and Working?</strong></font><br><br>\n",
    "To get libraries into our code, we use the import statement followed by the library we want to import. <br>Lets start simply:"
   ]
  },
  {
   "cell_type": "markdown",
   "metadata": {},
   "source": [
    "> "
   ]
  },
  {
   "cell_type": "code",
   "execution_count": 6,
   "metadata": {},
   "outputs": [
    {
     "name": "stdout",
     "output_type": "stream",
     "text": [
      "8.0\n",
      "1\n"
     ]
    }
   ],
   "source": [
    "#In this code cell, we are importing the math library which allows us to do math operations,\n",
    "#and the random library which lets us take pseudorandom numbers and choices.\n",
    "import math\n",
    "import random\n",
    "#We use the libraries by first calling them by their name, then using one of their methods.\n",
    "#For example:\n",
    "num = 64\n",
    "print(math.sqrt(num))\n",
    "numList = [1,2,3,4,5,6]\n",
    "print(random.choice(numList))\n",
    "#Here, 'math' and 'random' are the names of the libraries, and 'sqrt' and 'choice' are the names of the methods."
   ]
  },
  {
   "cell_type": "markdown",
   "metadata": {},
   "source": [
    "<font size = 5>We can also import parts of libraries by adding a \"from\" in front of our import.</font><br>\n"
   ]
  },
  {
   "cell_type": "code",
   "execution_count": 8,
   "metadata": {},
   "outputs": [
    {
     "name": "stdout",
     "output_type": "stream",
     "text": [
      "8.0\n",
      "6\n"
     ]
    }
   ],
   "source": [
    "from math import sqrt\n",
    "from random import *\n",
    "num = 64\n",
    "print(sqrt(num))\n",
    "numList = [1,2,3,4,5,6]\n",
    "print(choice(numList))"
   ]
  },
  {
   "cell_type": "markdown",
   "metadata": {},
   "source": [
    "<font size = 5>Now, we don't have to use math. in front of sqrt, and can just use the function by itself. We can also import *, or all, which makes it so that everything is imported. Here, we don't have to use random in front of choice, even though we didn't import choice specifically."
   ]
  },
  {
   "cell_type": "markdown",
   "metadata": {},
   "source": [
    "<strong><font size = 13>Popcorn Hack #1</font><br></strong><br><br>\n",
    "<font size = 6>Import your own library from a list of provided libraries, and use one of its methods. This can be something very bare bones, such as printing the time, getting a random number in a list, or doing something after sleeping a certain amount of time\n"
   ]
  },
  {
   "cell_type": "code",
   "execution_count": null,
   "metadata": {},
   "outputs": [],
   "source": [
    "#math library module examples: sqrt(num), square(num), cube(num), factorial(num)\n",
    "#random library module examples: choice(list), randrange(lowest, highest, step[numbers chosen in multiples of {step}])\n",
    "#datetime library module examples: datetime.now()\n",
    "#sleep library module examples: sleep(milliseconds)"
   ]
  },
  {
   "cell_type": "markdown",
   "metadata": {},
   "source": [
    "<strong><font size = 26>Documentation</strong></font><br><br>\n",
    "Documentation in Python libraries refers to the written information and explanations provided to help users understand how to use the library, its classes, functions, and modules. It serves as a comprehensive guide that documents the library's functionality, usage, and often includes code examples. Documentation is typically created by the library developers and is an essential component of a well-maintained library.\n",
    "\n",
    "<br>\n",
    "\n",
    "Examples of Documentation: An introductory section explaining the purpose of the library, a section on how to install the library, basic usage examples, etc. "
   ]
  },
  {
   "cell_type": "code",
   "execution_count": null,
   "metadata": {},
   "outputs": [],
   "source": [
    "calcAverage(grades)\n",
    "\n",
    "'''\n",
    "You know the name of the procedure and the perameters, but...\n",
    "You probably wouldn't be able to use this procedure \n",
    "with confidence because you don't know its function \n",
    "exactly (maybe you can guess that it finds the average, \n",
    "but you wouldn't know if it uses mean, mode, or median to \n",
    "find the average). You would also need more information on the\n",
    "perameters.\n",
    "'''"
   ]
  },
  {
   "cell_type": "markdown",
   "metadata": {},
   "source": [
    "<strong><font size = 26>Libraries and APIs</strong></font><br><br>\n",
    "- A file that contains procedures that cane be used in a program is called a <strong>library</strong>\n",
    "- An <strong>Application Program Interface (API)</strong> provides specifications for how procedures in a library behave and can be used. \n",
    "\n",
    "APIs define the methods and functions that are available for developers to interact with a library. They specify how to make requests, provide inputs, and receive outputs, creating a clear and consistent way to use library features."
   ]
  },
  {
   "cell_type": "markdown",
   "metadata": {},
   "source": [
    "<strong><font size = 26>Which libraries will be very important to us?</font><br><br></strong>\n",
    "<ul>\n",
    "<li>Requests - Simplifies working with HTTP servers, including 'request'-ing data from them, and recieving it</li>\n",
    "<li>Pillow - Simplifies image processing</li>\n",
    "<li>Pandas - Simplifies data analysis & manipulation</li>\n",
    "<li>Numpy - Vastly quickens functionality of arrays up to 50 times faster than regular python list</li>\n",
    "<li>Scikit-Learn - Implements machine learning models and statistical modelling</li>\n",
    "<li>Tensorflow - Data automation, model tracking, performance monitoring, and model retraining</li>\n",
    "<li>matplotlib - Creates static, animated, and interactive visualizations in Python</li>\n",
    "</ul>"
   ]
  },
  {
   "cell_type": "markdown",
   "metadata": {},
   "source": [
    "<strong><font size = 13>Popcorn Hack #2</font><br></strong><br><br>\n",
    "<font size = 6>Using the requests library and the ? module (since we should already be using this in our backend) <strong>GET</strong> a request from the api at \"https://api.github.com\"\n"
   ]
  },
  {
   "cell_type": "code",
   "execution_count": 14,
   "metadata": {},
   "outputs": [
    {
     "data": {
      "text/plain": [
       "<Response [200]>"
      ]
     },
     "execution_count": 14,
     "metadata": {},
     "output_type": "execute_result"
    }
   ],
   "source": [
    "import requests\n",
    "#GET a request using the requests library. Remember to put your api link in quotes! If you get something along the lines of response [200] then you succeeded"
   ]
  },
  {
   "cell_type": "markdown",
   "metadata": {},
   "source": [
    "This code is an example of Pillow:"
   ]
  },
  {
   "cell_type": "code",
   "execution_count": 2,
   "metadata": {},
   "outputs": [],
   "source": [
    "from PIL import Image, ImageDraw, ImageFont\n",
    "\n",
    "# Create a new blank image\n",
    "width, height = 400, 200\n",
    "image = Image.new(\"RGB\", (width, height), \"white\")\n",
    "\n",
    "# Create an ImageDraw object\n",
    "draw = ImageDraw.Draw(image)\n",
    "\n",
    "# Draw a red line from (50, 50) to (350, 150)\n",
    "line_color = (255, 0, 0)  # Red color\n",
    "draw.line((50, 50, 350, 150), fill=line_color, width=3)\n",
    "\n",
    "# Add text to the image\n",
    "text = \"This was created using Pillow!\"\n",
    "text_color = (0, 0, 0)  # Black color\n",
    "font_size = 20\n",
    "font = ImageFont.load_default()  # Use a default font\n",
    "text_position = (50, 160) \n",
    "draw.text(text_position, text, fill=text_color, font=font)\n",
    "\n",
    "# Save or display the image\n",
    "image.show()\n",
    "image.show()\n",
    "#This opens the image in your default image viewer and when you stop the code, it will return an error, but don't worry about that\n"
   ]
  },
  {
   "cell_type": "markdown",
   "metadata": {},
   "source": [
    "This code uses NumPy to create an array, and Scikit-Learn to analyze the data. It creates a linear regression which describes the relationship between the x and y arrays which reperesent independent and dependent variables. In simpler terms, it is creating a line of best fit between the two data sets, just like how you would in something like desmos."
   ]
  },
  {
   "cell_type": "markdown",
   "metadata": {},
   "source": [
    ">\n"
   ]
  },
  {
   "cell_type": "code",
   "execution_count": 9,
   "metadata": {},
   "outputs": [
    {
     "name": "stdout",
     "output_type": "stream",
     "text": [
      "Model Coefficients: [0.68571429]\n",
      "Mean Squared Error: 0.7346938775510206\n",
      "Linear Regression Equation: y = 1.7714285714285714 + 0.6857142857142857 * X\n"
     ]
    }
   ],
   "source": [
    "import numpy as np\n",
    "import numpy as np\n",
    "from sklearn.linear_model import LinearRegression\n",
    "from sklearn.model_selection import train_test_split\n",
    "from sklearn.metrics import mean_squared_error\n",
    "\n",
    "# Generate some example data\n",
    "X = np.array([1, 2, 3, 4, 5]).reshape(-1, 1)  # Feature (independent variable)\n",
    "y = np.array([2, 4, 5, 4, 5])             # Target (dependent variable)\n",
    "\n",
    "# Split the data into training and testing sets\n",
    "X_train, X_test, y_train, y_test = train_test_split(X, y, test_size=0.2, random_state=42)\n",
    "\n",
    "# Create a Linear Regression model\n",
    "model = LinearRegression()\n",
    "\n",
    "# Fit the model to the training data\n",
    "model.fit(X_train, y_train)\n",
    "\n",
    "# Make predictions on the test data\n",
    "y_pred = model.predict(X_test)\n",
    "\n",
    "# Evaluate the model by calculating the Mean Squared Error  \n",
    "mse = mean_squared_error(y_test, y_pred)\n",
    "\n",
    "# Print the model coefficients and MSE, model coefficient is the slope of the linear regression line, MSE is how well the model is performing, the closer it is to 0 the better\n",
    "print(\"Model Coefficients:\", model.coef_)\n",
    "print(\"Mean Squared Error:\", mse)\n",
    "\n",
    "intercept = model.intercept_\n",
    "slope = model.coef_[0]\n",
    "print(f\"Linear Regression Equation: y = {intercept} + {slope} * X\")\n",
    "\n"
   ]
  },
  {
   "cell_type": "markdown",
   "metadata": {},
   "source": [
    "This code utilizes pandas in the DataFrame form to organize the data in to a table with the categories on the horizontal axis and their values on the vertical. Pandas creates a way for the user to organize data in a much simpler form and in different styles depending on what the user wants"
   ]
  },
  {
   "cell_type": "code",
   "execution_count": 18,
   "metadata": {},
   "outputs": [
    {
     "ename": "ImportError",
     "evalue": "C extension: None not built. If you want to import pandas from the source directory, you may need to run 'python setup.py build_ext' to build the C extensions first.",
     "output_type": "error",
     "traceback": [
      "\u001b[0;31m---------------------------------------------------------------------------\u001b[0m",
      "\u001b[0;31mImportError\u001b[0m                               Traceback (most recent call last)",
      "\u001b[0;32m~/.local/lib/python3.10/site-packages/pandas/__init__.py\u001b[0m in \u001b[0;36m<module>\u001b[0;34m\u001b[0m\n\u001b[1;32m     22\u001b[0m     \u001b[0;31m# numpy compat\u001b[0m\u001b[0;34m\u001b[0m\u001b[0;34m\u001b[0m\u001b[0m\n\u001b[0;32m---> 23\u001b[0;31m     from pandas.compat import (\n\u001b[0m\u001b[1;32m     24\u001b[0m         \u001b[0mis_numpy_dev\u001b[0m \u001b[0;32mas\u001b[0m \u001b[0m_is_numpy_dev\u001b[0m\u001b[0;34m,\u001b[0m  \u001b[0;31m# pyright: ignore[reportUnusedImport] # noqa: F401,E501\u001b[0m\u001b[0;34m\u001b[0m\u001b[0;34m\u001b[0m\u001b[0m\n",
      "\u001b[0;32m~/.local/lib/python3.10/site-packages/pandas/compat/__init__.py\u001b[0m in \u001b[0;36m<module>\u001b[0;34m\u001b[0m\n\u001b[1;32m     25\u001b[0m \u001b[0;32mimport\u001b[0m \u001b[0mpandas\u001b[0m\u001b[0;34m.\u001b[0m\u001b[0mcompat\u001b[0m\u001b[0;34m.\u001b[0m\u001b[0mcompressors\u001b[0m\u001b[0;34m\u001b[0m\u001b[0;34m\u001b[0m\u001b[0m\n\u001b[0;32m---> 26\u001b[0;31m \u001b[0;32mfrom\u001b[0m \u001b[0mpandas\u001b[0m\u001b[0;34m.\u001b[0m\u001b[0mcompat\u001b[0m\u001b[0;34m.\u001b[0m\u001b[0mnumpy\u001b[0m \u001b[0;32mimport\u001b[0m \u001b[0mis_numpy_dev\u001b[0m\u001b[0;34m\u001b[0m\u001b[0;34m\u001b[0m\u001b[0m\n\u001b[0m\u001b[1;32m     27\u001b[0m from pandas.compat.pyarrow import (\n",
      "\u001b[0;32m~/.local/lib/python3.10/site-packages/pandas/compat/numpy/__init__.py\u001b[0m in \u001b[0;36m<module>\u001b[0;34m\u001b[0m\n\u001b[1;32m     16\u001b[0m \u001b[0;32mif\u001b[0m \u001b[0m_nlv\u001b[0m \u001b[0;34m<\u001b[0m \u001b[0mVersion\u001b[0m\u001b[0;34m(\u001b[0m\u001b[0m_min_numpy_ver\u001b[0m\u001b[0;34m)\u001b[0m\u001b[0;34m:\u001b[0m\u001b[0;34m\u001b[0m\u001b[0;34m\u001b[0m\u001b[0m\n\u001b[0;32m---> 17\u001b[0;31m     raise ImportError(\n\u001b[0m\u001b[1;32m     18\u001b[0m         \u001b[0;34mf\"this version of pandas is incompatible with numpy < {_min_numpy_ver}\\n\"\u001b[0m\u001b[0;34m\u001b[0m\u001b[0;34m\u001b[0m\u001b[0m\n",
      "\u001b[0;31mImportError\u001b[0m: this version of pandas is incompatible with numpy < 1.22.4\nyour numpy version is 1.21.5.\nPlease upgrade numpy to >= 1.22.4 to use this pandas version",
      "\nThe above exception was the direct cause of the following exception:\n",
      "\u001b[0;31mImportError\u001b[0m                               Traceback (most recent call last)",
      "\u001b[0;32m/tmp/ipykernel_2902/3309276974.py\u001b[0m in \u001b[0;36m<module>\u001b[0;34m\u001b[0m\n\u001b[1;32m      2\u001b[0m \u001b[0;34m\u001b[0m\u001b[0m\n\u001b[1;32m      3\u001b[0m \u001b[0;31m#imports pandas so it's able to be used\u001b[0m\u001b[0;34m\u001b[0m\u001b[0;34m\u001b[0m\u001b[0m\n\u001b[0;32m----> 4\u001b[0;31m \u001b[0;32mimport\u001b[0m \u001b[0mpandas\u001b[0m \u001b[0;32mas\u001b[0m \u001b[0mpd\u001b[0m\u001b[0;34m\u001b[0m\u001b[0;34m\u001b[0m\u001b[0m\n\u001b[0m\u001b[1;32m      5\u001b[0m \u001b[0;34m\u001b[0m\u001b[0m\n\u001b[1;32m      6\u001b[0m \u001b[0;31m#data is created and will be sorted from left to right into top to bottom\u001b[0m\u001b[0;34m\u001b[0m\u001b[0;34m\u001b[0m\u001b[0m\n",
      "\u001b[0;32m~/.local/lib/python3.10/site-packages/pandas/__init__.py\u001b[0m in \u001b[0;36m<module>\u001b[0;34m\u001b[0m\n\u001b[1;32m     26\u001b[0m \u001b[0;32mexcept\u001b[0m \u001b[0mImportError\u001b[0m \u001b[0;32mas\u001b[0m \u001b[0m_err\u001b[0m\u001b[0;34m:\u001b[0m  \u001b[0;31m# pragma: no cover\u001b[0m\u001b[0;34m\u001b[0m\u001b[0;34m\u001b[0m\u001b[0m\n\u001b[1;32m     27\u001b[0m     \u001b[0m_module\u001b[0m \u001b[0;34m=\u001b[0m \u001b[0m_err\u001b[0m\u001b[0;34m.\u001b[0m\u001b[0mname\u001b[0m\u001b[0;34m\u001b[0m\u001b[0;34m\u001b[0m\u001b[0m\n\u001b[0;32m---> 28\u001b[0;31m     raise ImportError(\n\u001b[0m\u001b[1;32m     29\u001b[0m         \u001b[0;34mf\"C extension: {_module} not built. If you want to import \"\u001b[0m\u001b[0;34m\u001b[0m\u001b[0;34m\u001b[0m\u001b[0m\n\u001b[1;32m     30\u001b[0m         \u001b[0;34m\"pandas from the source directory, you may need to run \"\u001b[0m\u001b[0;34m\u001b[0m\u001b[0;34m\u001b[0m\u001b[0m\n",
      "\u001b[0;31mImportError\u001b[0m: C extension: None not built. If you want to import pandas from the source directory, you may need to run 'python setup.py build_ext' to build the C extensions first."
     ]
    }
   ],
   "source": [
    "#This code utilizes pandas which is a way for you as a user, to create data tables that are much more organized\n",
    "\n",
    "#imports pandas so it's able to be used\n",
    "import pandas as pd\n",
    "\n",
    "#data is created and will be sorted from left to right into top to bottom\n",
    "data = {'Name': ['Matthew', 'Lindsay', 'Josh', 'Ethan'],\n",
    "        'Grade': [97, 92, 90, 80]}\n",
    "\n",
    "#defines a variable and utilizes pandas by using a DataFrame for the data\n",
    "df = pd.DataFrame(data)\n",
    "#tbere are other forms other than DataFrame, those are Series (single Column), Panel (3D), Multindex (multiple levels of index), and Categorical (categories), \n",
    "#increase the side count by one\n",
    "df.index += 1\n",
    "\n",
    "print(df)\n"
   ]
  },
  {
   "cell_type": "markdown",
   "metadata": {},
   "source": [
    "Another example code, this time utilizing both numpy and pandas"
   ]
  },
  {
   "cell_type": "code",
   "execution_count": null,
   "metadata": {},
   "outputs": [
    {
     "name": "stdout",
     "output_type": "stream",
     "text": [
      "  Grade  Mean Grade\n",
      "1     A        94.0\n",
      "2     B        86.0\n",
      "3     C        77.5\n"
     ]
    }
   ],
   "source": [
    "import pandas as pd\n",
    "import numpy as np\n",
    "\n",
    "# Sample data\n",
    "data = {\n",
    "    'Grade': ['A', 'B', 'A', 'C', 'B', 'C', 'A', 'B', 'A'],\n",
    "    'Percent': [94, 82, 91, 76, 89, 79, 92, 87, 99]\n",
    "}\n",
    "\n",
    "# Create a Pandas DataFrame\n",
    "df = pd.DataFrame(data)\n",
    "\n",
    "# Calculate the mean of each Grade using NumPy\n",
    "means = df.groupby('Grade')['Percent'].mean().reset_index()\n",
    "\n",
    "# Organize the results into a new data table\n",
    "result = pd.DataFrame({'Grade': ['A', 'B', 'C'], 'Mean Grade': means['Percent']})\n",
    "\n",
    "result.index += 1\n",
    "# Display the result\n",
    "print(result)\n"
   ]
  },
  {
   "cell_type": "markdown",
   "metadata": {},
   "source": [
    "The provided code demonstrates a basic example of linear regression using TensorFlow and Keras. It begins by importing the necessary libraries, TensorFlow and NumPy. It then generates a synthetic dataset with 1000 samples, where the input features are random, and the target values are computed as a linear combination of the input features with added noise. A data pipeline is set up using TensorFlow, which includes shuffling and batching the data for efficient processing. A simple linear regression model is defined using Keras, consisting of one dense layer. The model is compiled with the Adam optimizer and mean squared error as the loss function. It is then trained on the synthetic data for ten epochs. After training, the model is used to make predictions on new data points, and the predictions are printed to the console. This code provides a basic illustration of how to perform a simple machine learning task with TensorFlow, from data generation to model training and prediction."
   ]
  },
  {
   "cell_type": "code",
   "execution_count": null,
   "metadata": {},
   "outputs": [],
   "source": [
    "import tensorflow as tf\n",
    "import numpy as np\n",
    "\n",
    "# Create a synthetic dataset\n",
    "num_samples = 1000\n",
    "input_data = np.random.rand(num_samples, 2)\n",
    "target_data = input_data[:, 0] * 2 + input_data[:, 1] * 3 + np.random.randn(num_samples)\n",
    "\n",
    "# Define a data pipeline using TensorFlow\n",
    "dataset = tf.data.Dataset.from_tensor_slices((input_data, target_data))\n",
    "dataset = dataset.shuffle(buffer_size=num_samples)\n",
    "dataset = dataset.batch(32)\n",
    "dataset = dataset.prefetch(buffer_size=tf.data.AUTOTUNE)\n",
    "\n",
    "# Create a simple linear regression model using Keras\n",
    "model = tf.keras.Sequential([\n",
    "    tf.keras.layers.Dense(1, input_shape=(2,))\n",
    "])\n",
    "model.compile(optimizer='adam', loss='mean_squared_error')\n",
    "\n",
    "# Train the model on the synthetic data\n",
    "model.fit(dataset, epochs=10)\n",
    "\n",
    "# Generate predictions\n",
    "new_data = np.array([[0.5, 0.7], [0.3, 0.2]])\n",
    "predictions = model.predict(new_data)\n",
    "print(\"Predictions:\", predictions)\n"
   ]
  },
  {
   "cell_type": "markdown",
   "metadata": {},
   "source": [
    "<h1>Homework Hack 1</h1> \n",
    "Create a code that makes a data table which organizes the average values(mean) from a data set the has atleast 5 values per category and using 2 libraries, ex:"
   ]
  },
  {
   "cell_type": "code",
   "execution_count": null,
   "metadata": {},
   "outputs": [],
   "source": [
    "#Your Code"
   ]
  }
 ],
 "metadata": {
  "kernelspec": {
   "display_name": "Python 3",
   "language": "python",
   "name": "python3"
  },
  "language_info": {
   "codemirror_mode": {
    "name": "ipython",
    "version": 3
   },
   "file_extension": ".py",
   "mimetype": "text/x-python",
   "name": "python",
   "nbconvert_exporter": "python",
   "pygments_lexer": "ipython3",
   "version": "3.10.12"
  }
 },
 "nbformat": 4,
 "nbformat_minor": 2
}
